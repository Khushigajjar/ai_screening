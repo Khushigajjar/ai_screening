{
 "cells": [
  {
   "cell_type": "code",
   "execution_count": 1,
   "id": "c933f21f-ef6d-4bda-891a-bb39f4bdbb7f",
   "metadata": {},
   "outputs": [],
   "source": [
    "import pdfplumber\n",
    "import re"
   ]
  },
  {
   "cell_type": "code",
   "execution_count": null,
   "id": "fe5babd7-c437-438d-8fd5-bd23070bfbf3",
   "metadata": {},
   "outputs": [
    {
     "name": "stderr",
     "output_type": "stream",
     "text": [
      "CropBox missing from /Page, defaulting to MediaBox\n",
      "CropBox missing from /Page, defaulting to MediaBox\n",
      "CropBox missing from /Page, defaulting to MediaBox\n",
      "CropBox missing from /Page, defaulting to MediaBox\n"
     ]
    },
    {
     "name": "stdout",
     "output_type": "stream",
     "text": [
      "{'email': 'khushigajjar218@gmail.com', 'phone': ['7043022473']}\n"
     ]
    }
   ],
   "source": [
    "import re\n",
    "import pdfplumber\n",
    "\n",
    "def extract_email(text):\n",
    "    match = re.findall(r\"[a-zA-Z0-9\\._%+-]+@[a-zA-Z0-9.-]+\\.[a-zA-Z]{2,}\", text)\n",
    "    return match[0] if match else None\n",
    "\n",
    "def extract_phone_number(text):\n",
    "    pattern = r\"(?:\\+?\\d{1,3}[-.\\s]?)?(?:\\(?\\d{2,4}\\)?[-.\\s]?)?\\d{3,4}[-.\\s]?\\d{4}\" \n",
    "    matches = re.findall(pattern, text)\n",
    "    return matches if matches else None\n",
    "\n",
    "def parse_resume(file_path):\n",
    "    text = \"\"\n",
    "    with pdfplumber.open(file_path) as pdf:\n",
    "        for page in pdf.pages:\n",
    "            page_text = page.extract_text()\n",
    "            if page_text:\n",
    "                text += page_text + \"\\n\"\n",
    "\n",
    "    email = extract_email(text)\n",
    "    phone = extract_phone_number(text)\n",
    "\n",
    "    return {\"email\": email, \"phone\": phone}\n",
    "\n",
    "# Run the function\n",
    "file_path = r\"C:\\Users\\Khushi Gajjar\\Downloads\\Resume.pdf\"\n",
    "result = parse_resume(file_path)\n",
    "print(result)\n"
   ]
  },
  {
   "cell_type": "code",
   "execution_count": 4,
   "id": "4c7d0b94-f1f2-4e03-bfc5-4da6f18c2d76",
   "metadata": {},
   "outputs": [
    {
     "name": "stdout",
     "output_type": "stream",
     "text": [
      "Extracted phone number: +91 7043341420\n",
      "Extracted phone number: +1 123456 (7890) 12345\n",
      "Extracted phone number: 7043078995\n",
      "Extracted phone number: +1 (303) 450-3689\n",
      "678 (9780)0 845678\n",
      "2025\n",
      "Extracted phone number: +44 7911 123 456\n"
     ]
    }
   ],
   "source": [
    "\n",
    "# Sample input text (you can replace this with the content extracted from a PDF or other source)\n",
    "text = \"\"\"\n",
    "Contact us at +91 7043341420 or +1 123456 (7890) 12345.\n",
    "7043078995\n",
    "+1 (303) 450-3689\n",
    "678 (9780)0 845678\n",
    "2025\n",
    "Also reach us at +44 7911 123 456.\n",
    "\"\"\"\n",
    "\n",
    "\n",
    "# Regex pattern\n",
    "pattern = r'\\+?\\d{1,3}(?:[\\s\\-]?\\(?\\d+\\)?)+'\n",
    "\n",
    "# Find all matching phone numbers\n",
    "matches = re.findall(pattern, text)\n",
    "\n",
    "# Print extracted numbers\n",
    "for number in matches:\n",
    "    print(\"Extracted phone number:\", number)"
   ]
  },
  {
   "cell_type": "code",
   "execution_count": 5,
   "id": "db157bee-685e-4888-85a8-89d94161ab48",
   "metadata": {},
   "outputs": [
    {
     "name": "stdout",
     "output_type": "stream",
     "text": [
      "['+91 7043341420']\n"
     ]
    }
   ],
   "source": [
    "import re\n",
    "\n",
    "# Sample input text (you can replace this with the content extracted from a PDF or other source)\n",
    "text = \"\"\"\n",
    "Contact us at +91 7043341420 \n",
    "\"\"\"\n",
    "\n",
    "# Regular expression to match phone numbers with country code and optional parentheses\n",
    "pattern = r\"(?:\\+?\\d{1,3}[-.\\s]?)?(?:\\(?\\d{2,4}\\)?[-.\\s]?)?\\d{3,4}[-.\\s]?\\d{4,10}\" \n",
    "\n",
    "# Find all matches in the text\n",
    "phone_numbers = re.findall(pattern, text)\n",
    "print(phone_numbers)\n",
    "\n"
   ]
  },
  {
   "cell_type": "code",
   "execution_count": null,
   "id": "c544a31c-d7bf-4909-9ec8-4a6ae7807ec4",
   "metadata": {},
   "outputs": [],
   "source": []
  }
 ],
 "metadata": {
  "kernelspec": {
   "display_name": "Python 3",
   "language": "python",
   "name": "python3"
  },
  "language_info": {
   "codemirror_mode": {
    "name": "ipython",
    "version": 3
   },
   "file_extension": ".py",
   "mimetype": "text/x-python",
   "name": "python",
   "nbconvert_exporter": "python",
   "pygments_lexer": "ipython3",
   "version": "3.12.5"
  }
 },
 "nbformat": 4,
 "nbformat_minor": 5
}
